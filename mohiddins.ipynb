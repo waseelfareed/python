{
 "cells": [
  {
   "cell_type": "code",
   "execution_count": 2,
   "metadata": {},
   "outputs": [
    {
     "name": "stdout",
     "output_type": "stream",
     "text": [
      "2 is a Fibonacci number.\n"
     ]
    }
   ],
   "source": [
    "#1ab 1 Check given no is fibonacci no\n",
    "def is_fibonacci(n):\n",
    "    a, b = 0, 1  \n",
    "    while b <= n:  \n",
    "        if b == n:  \n",
    "            return True\n",
    "        a, b = b, a + b  \n",
    "    return False  \n",
    "\n",
    "n = int(input(\"Enter a number: \"))  \n",
    "if is_fibonacci(n):\n",
    "    print(n, \"is a Fibonacci number.\")  \n",
    "else:\n",
    "    print(n, \"is not a Fibonacci number.\")  \n"
   ]
  },
  {
   "cell_type": "code",
   "execution_count": 3,
   "metadata": {},
   "outputs": [
    {
     "name": "stdout",
     "output_type": "stream",
     "text": [
      "does not have a real root\n"
     ]
    }
   ],
   "source": [
    "#Lab2 progratn to solve quadratic equation\n",
    "import math\n",
    "a = int(input(\"enter a:\"))\n",
    "b = int(input(\"enter b:\"))\n",
    "c = int(input(\"enter c:\"))\n",
    "discriminant = b**2 -4*a*c\n",
    "if discriminant > 0:\n",
    "    rootl = (-b + math.sqrt(discriminant))/(2*a)\n",
    "    root2 = (-b - math.sqrt(discriminant))/(2*a)\n",
    "    print(\"The equation has two real roots:\",rootl,\"and\",root2)\n",
    "elif discriminant == 0:\n",
    "    root=-b/(2*a)\n",
    "    print(\"The equation has one real root:\", root)\n",
    "else:\n",
    "    print(\"does not have a real root\")\n"
   ]
  },
  {
   "cell_type": "code",
   "execution_count": null,
   "metadata": {},
   "outputs": [
    {
     "name": "stdout",
     "output_type": "stream",
     "text": [
      "3 Natural nurnbers are \n",
      "\n",
      "1\n",
      "2\n",
      "3\n",
      "3 Natural no's Sum= 6\n"
     ]
    }
   ],
   "source": [
    "#3 Find the sum of n natural nun)bets\n",
    "i=1\n",
    "sum=0\n",
    "n=int(input(\"Enter the number of natural no's to be sum=\"))\n",
    "print(n, \"Natural nurnbers are \\n\")\n",
    "while i<=n:\n",
    "    print(i)\n",
    "    sum=sum+i\n",
    "    i=i+1\n",
    "print(n, \"Natural no's Sum=\", sum)"
   ]
  },
  {
   "cell_type": "code",
   "execution_count": null,
   "metadata": {},
   "outputs": [
    {
     "name": "stdout",
     "output_type": "stream",
     "text": [
      "2 Multiplication Table is\n",
      "2 * 1 = 2\n",
      "2 * 2 = 4\n",
      "2 * 3 = 6\n",
      "2 * 4 = 8\n",
      "2 * 5 = 10\n",
      "2 * 6 = 12\n",
      "2 * 7 = 14\n",
      "2 * 8 = 16\n",
      "2 * 9 = 18\n",
      "2 * 10 = 20\n"
     ]
    }
   ],
   "source": [
    "#4Display Multiplication Tables\n",
    "i=1\n",
    "n=int(input(\"Enter which No multiplication Table to display=\"))\n",
    "print(n, \"Multiplication Table is\")\n",
    "while i<=10:\n",
    "    print(n,\"*\",i,\"=\",n*i)\n",
    "    i=i+1\n"
   ]
  },
  {
   "cell_type": "code",
   "execution_count": null,
   "metadata": {},
   "outputs": [
    {
     "name": "stdout",
     "output_type": "stream",
     "text": [
      "21 is a prime number\n",
      "21 is not a prime number\n",
      "21 is a prime number\n",
      "21 is a prime number\n",
      "21 is a prime number\n",
      "21 is not a prime number\n",
      "21 is a prime number\n",
      "21 is a prime number\n",
      "21 is a prime number\n"
     ]
    }
   ],
   "source": [
    "#Lab 5: Check if a given number is a Prime Number or not\n",
    "num=int(input(\"Enter the number:=\"))\n",
    "if num > 1:\n",
    "    for i in range(2,(num//2)+1):\n",
    "        if (num % i)==0:\n",
    "            print(num,\"is not a prime number\")\n",
    "            break\n",
    "        else:\n",
    "            print(num,\"is a prime number\")\n",
    "else:\n",
    "    print(num,\"is not a prime number\")"
   ]
  },
  {
   "cell_type": "code",
   "execution_count": null,
   "metadata": {},
   "outputs": [
    {
     "name": "stdout",
     "output_type": "stream",
     "text": [
      "The given number is Not Found\n"
     ]
    }
   ],
   "source": [
    "# Lab 6 irnplernent Sequential search\n",
    "found=()\n",
    "List = [1, 2, 10, 4, 50, 61]\n",
    "n=int(input(\"Enter the key to be search=\"))\n",
    "for i in range(len(List)):\n",
    "    if List[i]== n:\n",
    "        found=1\n",
    "if found==1:\n",
    "    print(\"The given number is Found\")\n",
    "else:\n",
    "    print(\"The given number is Not Found\")"
   ]
  },
  {
   "cell_type": "code",
   "execution_count": 23,
   "metadata": {},
   "outputs": [
    {
     "name": "stdout",
     "output_type": "stream",
     "text": [
      "Please select operation -\n",
      "1. Add\n",
      "2. Subtract\n",
      "3. Multiply\n",
      "4. Divide\n",
      "3.0 - 4.0 = -1.0\n"
     ]
    }
   ],
   "source": [
    "#7 create a calander program\n",
    "def add(num1, num2):\n",
    "    return num1 + num2\n",
    "\n",
    "def subtract(num1, num2):\n",
    "    return num1 - num2\n",
    "\n",
    "def multiply(num1, num2):\n",
    "    return num1 * num2\n",
    "\n",
    "def divide(num1, num2):\n",
    "    return num1 / num2\n",
    "\n",
    "print(\"Please select operation -\\n1. Add\\n2. Subtract\\n3. Multiply\\n4. Divide\")\n",
    "\n",
    "select = int(input(\"Select operation from 1, 2, 3, 4: \"))\n",
    "number_1 = float(input(\"Enter first number: \"))\n",
    "number_2 = float(input(\"Enter second number: \"))\n",
    "\n",
    "if select == 1:\n",
    "    print(number_1, \"+\", number_2, \"=\", add(number_1, number_2))\n",
    "elif select == 2:\n",
    "    print(number_1, \"-\", number_2, \"=\", subtract(number_1, number_2))\n",
    "elif select == 3:\n",
    "    print(number_1, \"*\", number_2, \"=\", multiply(number_1, number_2))\n",
    "elif select == 4:\n",
    "    print(number_1, \"/\", number_2, \"=\", divide(number_1, number_2))\n",
    "else:\n",
    "    print(\"Invalid input\")\n"
   ]
  },
  {
   "cell_type": "code",
   "execution_count": null,
   "metadata": {},
   "outputs": [
    {
     "name": "stdout",
     "output_type": "stream",
     "text": [
      "Length of string: 17\n",
      "Uppercase string: THIS IS A STRING.\n",
      "Lowercase string: this is a string.\n",
      "Reversed string: .gnirts a si sihT\n",
      "Replaced 'is' with 'was': Thwas was a string.\n",
      "Split string into a list: ['This', 'is', 'a', 'string.']\n"
     ]
    }
   ],
   "source": [
    "#8. Explore suing functions\n",
    "string=\"This is a string.\"\n",
    "print(\"Length of string:\", len(string))\n",
    "print(\"Uppercase string:\", string.upper())\n",
    "print(\"Lowercase string:\", string.lower())\n",
    "print(\"Reversed string:\" , string[::-1])\n",
    "print(\"Replaced 'is' with 'was':\",string.replace(\"is\",\"was\"))\n",
    "print(\"Split string into a list:\",string.split())\n"
   ]
  },
  {
   "cell_type": "code",
   "execution_count": null,
   "metadata": {},
   "outputs": [
    {
     "name": "stdout",
     "output_type": "stream",
     "text": [
      "The sorted list is [1, 2, 3, 4, 5, 6, 7, 8, 9, 10]\n"
     ]
    }
   ],
   "source": [
    "#Lab9. Implement selection sort\n",
    "def selection_sort(list):\n",
    "    for i in range(len(list) - 1):\n",
    "        min_index = i\n",
    "        for j in range(i + 1, len(list)):\n",
    "            if list[j] < list[min_index]:\n",
    "                min_index = j\n",
    "        list[i], list[min_index] = list[min_index], list[i]\n",
    "    return list\n",
    "list=[10, 9, 8, 7, 6, 5, 4, 3, 2, 1]\n",
    "sorted_list = selection_sort(list)\n",
    "print(\"The sorted list is\", sorted_list)"
   ]
  },
  {
   "cell_type": "code",
   "execution_count": null,
   "metadata": {},
   "outputs": [
    {
     "name": "stdout",
     "output_type": "stream",
     "text": [
      "-----stack operation-----\n",
      "1. push  2. pop  3. display\n",
      "Stack: []\n"
     ]
    }
   ],
   "source": [
    "#Lab IO progratn to implement stack operation\n",
    "print(\"-----stack operation-----\")\n",
    "repeat = 1\n",
    "arr = []\n",
    "while repeat == 1:\n",
    "    print(\"1. push  2. pop  3. display\")\n",
    "    n = int(input(\"Enter choice=\"))\n",
    "    if n == 1:\n",
    "        num = int(input(\"Enter number to push=\"))\n",
    "        arr.append(num)\n",
    "    elif n == 2:\n",
    "        if arr:\n",
    "            print(\"Popped element is=\", arr.pop())\n",
    "        else:\n",
    "            print(\"Stack is empty\")\n",
    "    elif n == 3:\n",
    "        print(\"Stack:\", arr)\n",
    "    else:\n",
    "        print(\"Invalid choice\")\n",
    "    \n",
    "    repeat = int(input(\"Press 1 to repeat or any other key to exit=\"))\n"
   ]
  },
  {
   "cell_type": "code",
   "execution_count": null,
   "metadata": {},
   "outputs": [],
   "source": [
    "#11. Read and Write into a File\n",
    "f=open(\"bca4.txt\",\"r\")\n",
    "print(f.read())\n",
    "f.close()\n",
    "\n",
    "f=open(\"bca4.txt\",\"w\")\n",
    "f.write(\"we all are Best\")\n",
    "f.close()\n",
    "\n",
    "f=open(\"bca4.txt\",\"r\")\n",
    "print(f.read())\n",
    "f.close()"
   ]
  },
  {
   "cell_type": "code",
   "execution_count": null,
   "metadata": {},
   "outputs": [
    {
     "name": "stdout",
     "output_type": "stream",
     "text": [
      "Match found!\n"
     ]
    }
   ],
   "source": [
    "#1.Demonstrate usage ot basic regular expression\n",
    "import re\n",
    "text=input(\"Enter the Text=\")\n",
    "pattern=input(\"enter the pattern to be search=\")\n",
    "match = re.search(pattern, text)\n",
    "if match:\n",
    "    print('Match found!')\n",
    "else:\n",
    "    print('No match found')"
   ]
  },
  {
   "cell_type": "code",
   "execution_count": 21,
   "metadata": {},
   "outputs": [
    {
     "name": "stdout",
     "output_type": "stream",
     "text": [
      "Invalid data!\n"
     ]
    }
   ],
   "source": [
    "#2.Demonstrate use of advanced regular expressions for data validation\n",
    "import re\n",
    "pattern = r'^[A-Za-z]{2}$'\n",
    "data = '%@#'\n",
    "if re.match(pattern, data):\n",
    "    print('Valid data.')\n",
    "else:\n",
    "    print('Invalid data!')\n"
   ]
  },
  {
   "cell_type": "code",
   "execution_count": 49,
   "metadata": {},
   "outputs": [
    {
     "name": "stdout",
     "output_type": "stream",
     "text": [
      "apple\n",
      "3\n"
     ]
    }
   ],
   "source": [
    "#3. Demonstrate use of List\n",
    "fruits = ['apple', 'banana', 'cherry']\n",
    "print(fruits[0]) \n",
    "fruits.append('orange') \n",
    "fruits.remove('banana') \n",
    "print(len(fruits)) "
   ]
  },
  {
   "cell_type": "code",
   "execution_count": 51,
   "metadata": {},
   "outputs": [
    {
     "name": "stdout",
     "output_type": "stream",
     "text": [
      "John\n",
      "dict_keys(['name', 'age', 'city'])\n"
     ]
    }
   ],
   "source": [
    "#4. Demonstrate use of Dictionaries:\n",
    "student = {'name': 'John', 'age': 20, 'grade': 'A'}\n",
    "print(student['name'])\n",
    "student['age'] = 21 \n",
    "student['city'] = 'New York' \n",
    "del student['grade'] \n",
    "print(student.keys())"
   ]
  },
  {
   "cell_type": "code",
   "execution_count": 55,
   "metadata": {},
   "outputs": [],
   "source": [
    "#6 create a GUI using tkinter module\n",
    "import tkinter as tk\n",
    "\n",
    "w = tk.Tk()\n",
    "w.title(\"GUI example\")\n",
    "w.geometry(\"600x400\")  # Corrected the typo here\n",
    "label = tk.Label(w, text=\"Welcome to AIMCA, Bhatkal. by Using Tkinter!\")\n",
    "label.pack()\n",
    "button = tk.Button(w, text=\"Click me!\", command=w.destroy)\n",
    "button.pack()\n",
    "w.mainloop()\n"
   ]
  },
  {
   "cell_type": "code",
   "execution_count": 63,
   "metadata": {},
   "outputs": [
    {
     "name": "stdout",
     "output_type": "stream",
     "text": [
      "Result: 2.8\n"
     ]
    }
   ],
   "source": [
    "#7. Demonstrate Exceptions in Python\n",
    "try:\n",
    "    numl = int(input('Enter a number'))\n",
    "    num2 = int(input(\"Enter another number:\"))\n",
    "    result = numl / num2\n",
    "    print(\"Result:\",result)\n",
    "except ValueError:\n",
    "    print(\"invalid input.Please enter a valid number.\")\n",
    "except ZeroDivisionError:\n",
    "    print(\"Error:Division by zero occurred.\")\n",
    "except Exception as e:\n",
    "    print (\"An error occurred:\", str(e))"
   ]
  },
  {
   "cell_type": "code",
   "execution_count": 4,
   "metadata": {},
   "outputs": [
    {
     "data": {
      "image/png": "[encoded data removed]",
      "text/plain": [
       "<Figure size 640x480 with 1 Axes>"
      ]
     },
     "metadata": {},
     "output_type": "display_data"
    },
    {
     "data": {
      "image/png": "[encoded data removed]",
      "text/plain": [
       "<Figure size 640x480 with 1 Axes>"
      ]
     },
     "metadata": {},
     "output_type": "display_data"
    }
   ],
   "source": [
    "#8.Drawing line chart and Bar chart using Matplotlib\n",
    "import matplotlib.pyplot as plt\n",
    "x=[1,2,3,4,5]\n",
    "y=[10,8,6,4,2]\n",
    "plt.plot(x,y)\n",
    "plt.xlabel('X-axis')\n",
    "plt.ylabel('Y-axis')\n",
    "plt.title('Line Chart')\n",
    "plt.show()\n",
    "x=['a','b','c','d','e']\n",
    "plt.bar(x,y)\n",
    "plt.xlabel('Categories')\n",
    "plt.ylabel('Values')\n",
    "plt.title('Bar Chart')\n",
    "plt.show()"
   ]
  },
  {
   "cell_type": "code",
   "execution_count": 1,
   "metadata": {},
   "outputs": [
    {
     "ename": "NameError",
     "evalue": "name 'data' is not defined",
     "output_type": "error",
     "traceback": [
      "\u001b[1;31m---------------------------------------------------------------------------\u001b[0m",
      "\u001b[1;31mNameError\u001b[0m                                 Traceback (most recent call last)",
      "Cell \u001b[1;32mIn[1], line 3\u001b[0m\n\u001b[0;32m      1\u001b[0m \u001b[38;5;66;03m#9. Drawjng Histogram and Pte chart using Matplotlib error\u001b[39;00m\n\u001b[0;32m      2\u001b[0m \u001b[38;5;28;01mimport\u001b[39;00m \u001b[38;5;21;01mmatplotlib\u001b[39;00m\u001b[38;5;21;01m.\u001b[39;00m\u001b[38;5;21;01mpyplot\u001b[39;00m \u001b[38;5;28;01mas\u001b[39;00m \u001b[38;5;21;01mplt\u001b[39;00m\n\u001b[1;32m----> 3\u001b[0m \u001b[43mdata\u001b[49m [\u001b[38;5;241m1\u001b[39m,\u001b[38;5;241m1\u001b[39m,\u001b[38;5;241m2\u001b[39m,\u001b[38;5;241m2\u001b[39m,\u001b[38;5;241m2\u001b[39m,\u001b[38;5;241m3\u001b[39m,\u001b[38;5;241m3\u001b[39m,\u001b[38;5;241m4\u001b[39m,\u001b[38;5;241m5\u001b[39m,\u001b[38;5;241m5\u001b[39m,\u001b[38;5;241m5\u001b[39m,\u001b[38;5;241m5\u001b[39m]\n\u001b[0;32m      4\u001b[0m plt\u001b[38;5;241m.\u001b[39mhist(data,bins\u001b[38;5;241m=\u001b[39m\u001b[38;5;241m5\u001b[39m)\n\u001b[0;32m      5\u001b[0m plt\u001b[38;5;241m.\u001b[39mxlabel(\u001b[38;5;124m'\u001b[39m\u001b[38;5;124mValues\u001b[39m\u001b[38;5;124m'\u001b[39m)\n",
      "\u001b[1;31mNameError\u001b[0m: name 'data' is not defined"
     ]
    }
   ],
   "source": [
    "#9. Drawjng Histogram and Pte chart using Matplotlib error\n",
    "import matplotlib.pyplot as plt\n",
    "data [1,1,2,2,2,3,3,4,5,5,5,5]\n",
    "plt.hist(data,bins=5)\n",
    "plt.xlabel('Values')\n",
    "plt.ylabel('Frequency')\n",
    "plt.title('Histogram')\n",
    "plt.show()\n",
    "labels = ['Apples', 'Bananas', 'Oranges', 'Grapes']\n",
    "sizes = (30, 25, 20.151)\n",
    "plt.pie(sizes. labels-labels,autopct='%1.1f%%')\n",
    "plt.title('Pie Chart')\n",
    "plt.show()"
   ]
  },
  {
   "cell_type": "code",
   "execution_count": 2,
   "metadata": {},
   "outputs": [
    {
     "ename": "NameError",
     "evalue": "name 'l' is not defined",
     "output_type": "error",
     "traceback": [
      "\u001b[1;31m---------------------------------------------------------------------------\u001b[0m",
      "\u001b[1;31mNameError\u001b[0m                                 Traceback (most recent call last)",
      "Cell \u001b[1;32mIn[2], line 3\u001b[0m\n\u001b[0;32m      1\u001b[0m \u001b[38;5;66;03m#10. Create Array using Numpy and perform operation an array\u001b[39;00m\n\u001b[0;32m      2\u001b[0m \u001b[38;5;28;01mimport\u001b[39;00m \u001b[38;5;21;01mnumpy\u001b[39;00m \u001b[38;5;28;01mas\u001b[39;00m \u001b[38;5;21;01mnp\u001b[39;00m\n\u001b[1;32m----> 3\u001b[0m arr \u001b[38;5;241m=\u001b[39m np\u001b[38;5;241m.\u001b[39marray([\u001b[43ml\u001b[49m, \u001b[38;5;241m2\u001b[39m, \u001b[38;5;241m3\u001b[39m, \u001b[38;5;241m4\u001b[39m, \u001b[38;5;241m5\u001b[39m])\n\u001b[0;32m      4\u001b[0m \u001b[38;5;28mprint\u001b[39m(arr)\n\u001b[0;32m      5\u001b[0m np\u001b[38;5;241m.\u001b[39msum(\u001b[38;5;124m\"\u001b[39m\u001b[38;5;124msum=\u001b[39m\u001b[38;5;124m\"\u001b[39m,np\u001b[38;5;241m.\u001b[39msum(arr))\n",
      "\u001b[1;31mNameError\u001b[0m: name 'l' is not defined"
     ]
    }
   ],
   "source": [
    "#10. Create Array using Numpy and perform operation an array\n",
    "import numpy as np\n",
    "arr = np.array([l, 2, 3, 4, 5])\n",
    "print(arr)\n",
    "np.sum(\"sum=\",np.sum(arr))\n",
    "np.mean(\"mean=\",np.mean(arr))\n",
    "print(\"Max=\",np.max(arr))\n",
    "np.min(\"min=\",np.min(arr))"
   ]
  },
  {
   "cell_type": "code",
   "execution_count": 16,
   "metadata": {},
   "outputs": [
    {
     "ename": "FileNotFoundError",
     "evalue": "[Errno 2] No such file or directory: 'dataf.xlsx'",
     "output_type": "error",
     "traceback": [
      "\u001b[1;31m---------------------------------------------------------------------------\u001b[0m",
      "\u001b[1;31mFileNotFoundError\u001b[0m                         Traceback (most recent call last)",
      "Cell \u001b[1;32mIn[16], line 3\u001b[0m\n\u001b[0;32m      1\u001b[0m \u001b[38;5;66;03m#11. Create Data Frame from Excel sheet using Pandas and Perform Operations on Data frames\u001b[39;00m\n\u001b[0;32m      2\u001b[0m \u001b[38;5;28;01mimport\u001b[39;00m \u001b[38;5;21;01mpandas\u001b[39;00m \u001b[38;5;28;01mas\u001b[39;00m \u001b[38;5;21;01mpd\u001b[39;00m\n\u001b[1;32m----> 3\u001b[0m data \u001b[38;5;241m=\u001b[39m \u001b[43mpd\u001b[49m\u001b[38;5;241;43m.\u001b[39;49m\u001b[43mread_excel\u001b[49m\u001b[43m(\u001b[49m\u001b[38;5;124;43m\"\u001b[39;49m\u001b[38;5;124;43mdataf.xlsx\u001b[39;49m\u001b[38;5;124;43m\"\u001b[39;49m\u001b[43m)\u001b[49m\n\u001b[0;32m      4\u001b[0m \u001b[38;5;28mprint\u001b[39m(data)\n\u001b[0;32m      5\u001b[0m \u001b[38;5;28mprint\u001b[39m(data[\u001b[38;5;124m'\u001b[39m\u001b[38;5;124mcolumn1\u001b[39m\u001b[38;5;124m'\u001b[39m]\u001b[38;5;241m.\u001b[39msum())\n",
      "File \u001b[1;32m~\\AppData\\Roaming\\Python\\Python312\\site-packages\\pandas\\io\\excel\\_base.py:495\u001b[0m, in \u001b[0;36mread_excel\u001b[1;34m(io, sheet_name, header, names, index_col, usecols, dtype, engine, converters, true_values, false_values, skiprows, nrows, na_values, keep_default_na, na_filter, verbose, parse_dates, date_parser, date_format, thousands, decimal, comment, skipfooter, storage_options, dtype_backend, engine_kwargs)\u001b[0m\n\u001b[0;32m    493\u001b[0m \u001b[38;5;28;01mif\u001b[39;00m \u001b[38;5;129;01mnot\u001b[39;00m \u001b[38;5;28misinstance\u001b[39m(io, ExcelFile):\n\u001b[0;32m    494\u001b[0m     should_close \u001b[38;5;241m=\u001b[39m \u001b[38;5;28;01mTrue\u001b[39;00m\n\u001b[1;32m--> 495\u001b[0m     io \u001b[38;5;241m=\u001b[39m \u001b[43mExcelFile\u001b[49m\u001b[43m(\u001b[49m\n\u001b[0;32m    496\u001b[0m \u001b[43m        \u001b[49m\u001b[43mio\u001b[49m\u001b[43m,\u001b[49m\n\u001b[0;32m    497\u001b[0m \u001b[43m        \u001b[49m\u001b[43mstorage_options\u001b[49m\u001b[38;5;241;43m=\u001b[39;49m\u001b[43mstorage_options\u001b[49m\u001b[43m,\u001b[49m\n\u001b[0;32m    498\u001b[0m \u001b[43m        \u001b[49m\u001b[43mengine\u001b[49m\u001b[38;5;241;43m=\u001b[39;49m\u001b[43mengine\u001b[49m\u001b[43m,\u001b[49m\n\u001b[0;32m    499\u001b[0m \u001b[43m        \u001b[49m\u001b[43mengine_kwargs\u001b[49m\u001b[38;5;241;43m=\u001b[39;49m\u001b[43mengine_kwargs\u001b[49m\u001b[43m,\u001b[49m\n\u001b[0;32m    500\u001b[0m \u001b[43m    \u001b[49m\u001b[43m)\u001b[49m\n\u001b[0;32m    501\u001b[0m \u001b[38;5;28;01melif\u001b[39;00m engine \u001b[38;5;129;01mand\u001b[39;00m engine \u001b[38;5;241m!=\u001b[39m io\u001b[38;5;241m.\u001b[39mengine:\n\u001b[0;32m    502\u001b[0m     \u001b[38;5;28;01mraise\u001b[39;00m \u001b[38;5;167;01mValueError\u001b[39;00m(\n\u001b[0;32m    503\u001b[0m         \u001b[38;5;124m\"\u001b[39m\u001b[38;5;124mEngine should not be specified when passing \u001b[39m\u001b[38;5;124m\"\u001b[39m\n\u001b[0;32m    504\u001b[0m         \u001b[38;5;124m\"\u001b[39m\u001b[38;5;124man ExcelFile - ExcelFile already has the engine set\u001b[39m\u001b[38;5;124m\"\u001b[39m\n\u001b[0;32m    505\u001b[0m     )\n",
      "File \u001b[1;32m~\\AppData\\Roaming\\Python\\Python312\\site-packages\\pandas\\io\\excel\\_base.py:1550\u001b[0m, in \u001b[0;36mExcelFile.__init__\u001b[1;34m(self, path_or_buffer, engine, storage_options, engine_kwargs)\u001b[0m\n\u001b[0;32m   1548\u001b[0m     ext \u001b[38;5;241m=\u001b[39m \u001b[38;5;124m\"\u001b[39m\u001b[38;5;124mxls\u001b[39m\u001b[38;5;124m\"\u001b[39m\n\u001b[0;32m   1549\u001b[0m \u001b[38;5;28;01melse\u001b[39;00m:\n\u001b[1;32m-> 1550\u001b[0m     ext \u001b[38;5;241m=\u001b[39m \u001b[43minspect_excel_format\u001b[49m\u001b[43m(\u001b[49m\n\u001b[0;32m   1551\u001b[0m \u001b[43m        \u001b[49m\u001b[43mcontent_or_path\u001b[49m\u001b[38;5;241;43m=\u001b[39;49m\u001b[43mpath_or_buffer\u001b[49m\u001b[43m,\u001b[49m\u001b[43m \u001b[49m\u001b[43mstorage_options\u001b[49m\u001b[38;5;241;43m=\u001b[39;49m\u001b[43mstorage_options\u001b[49m\n\u001b[0;32m   1552\u001b[0m \u001b[43m    \u001b[49m\u001b[43m)\u001b[49m\n\u001b[0;32m   1553\u001b[0m     \u001b[38;5;28;01mif\u001b[39;00m ext \u001b[38;5;129;01mis\u001b[39;00m \u001b[38;5;28;01mNone\u001b[39;00m:\n\u001b[0;32m   1554\u001b[0m         \u001b[38;5;28;01mraise\u001b[39;00m \u001b[38;5;167;01mValueError\u001b[39;00m(\n\u001b[0;32m   1555\u001b[0m             \u001b[38;5;124m\"\u001b[39m\u001b[38;5;124mExcel file format cannot be determined, you must specify \u001b[39m\u001b[38;5;124m\"\u001b[39m\n\u001b[0;32m   1556\u001b[0m             \u001b[38;5;124m\"\u001b[39m\u001b[38;5;124man engine manually.\u001b[39m\u001b[38;5;124m\"\u001b[39m\n\u001b[0;32m   1557\u001b[0m         )\n",
      "File \u001b[1;32m~\\AppData\\Roaming\\Python\\Python312\\site-packages\\pandas\\io\\excel\\_base.py:1402\u001b[0m, in \u001b[0;36minspect_excel_format\u001b[1;34m(content_or_path, storage_options)\u001b[0m\n\u001b[0;32m   1399\u001b[0m \u001b[38;5;28;01mif\u001b[39;00m \u001b[38;5;28misinstance\u001b[39m(content_or_path, \u001b[38;5;28mbytes\u001b[39m):\n\u001b[0;32m   1400\u001b[0m     content_or_path \u001b[38;5;241m=\u001b[39m BytesIO(content_or_path)\n\u001b[1;32m-> 1402\u001b[0m \u001b[38;5;28;01mwith\u001b[39;00m \u001b[43mget_handle\u001b[49m\u001b[43m(\u001b[49m\n\u001b[0;32m   1403\u001b[0m \u001b[43m    \u001b[49m\u001b[43mcontent_or_path\u001b[49m\u001b[43m,\u001b[49m\u001b[43m \u001b[49m\u001b[38;5;124;43m\"\u001b[39;49m\u001b[38;5;124;43mrb\u001b[39;49m\u001b[38;5;124;43m\"\u001b[39;49m\u001b[43m,\u001b[49m\u001b[43m \u001b[49m\u001b[43mstorage_options\u001b[49m\u001b[38;5;241;43m=\u001b[39;49m\u001b[43mstorage_options\u001b[49m\u001b[43m,\u001b[49m\u001b[43m \u001b[49m\u001b[43mis_text\u001b[49m\u001b[38;5;241;43m=\u001b[39;49m\u001b[38;5;28;43;01mFalse\u001b[39;49;00m\n\u001b[0;32m   1404\u001b[0m \u001b[43m\u001b[49m\u001b[43m)\u001b[49m \u001b[38;5;28;01mas\u001b[39;00m handle:\n\u001b[0;32m   1405\u001b[0m     stream \u001b[38;5;241m=\u001b[39m handle\u001b[38;5;241m.\u001b[39mhandle\n\u001b[0;32m   1406\u001b[0m     stream\u001b[38;5;241m.\u001b[39mseek(\u001b[38;5;241m0\u001b[39m)\n",
      "File \u001b[1;32m~\\AppData\\Roaming\\Python\\Python312\\site-packages\\pandas\\io\\common.py:882\u001b[0m, in \u001b[0;36mget_handle\u001b[1;34m(path_or_buf, mode, encoding, compression, memory_map, is_text, errors, storage_options)\u001b[0m\n\u001b[0;32m    873\u001b[0m         handle \u001b[38;5;241m=\u001b[39m \u001b[38;5;28mopen\u001b[39m(\n\u001b[0;32m    874\u001b[0m             handle,\n\u001b[0;32m    875\u001b[0m             ioargs\u001b[38;5;241m.\u001b[39mmode,\n\u001b[1;32m   (...)\u001b[0m\n\u001b[0;32m    878\u001b[0m             newline\u001b[38;5;241m=\u001b[39m\u001b[38;5;124m\"\u001b[39m\u001b[38;5;124m\"\u001b[39m,\n\u001b[0;32m    879\u001b[0m         )\n\u001b[0;32m    880\u001b[0m     \u001b[38;5;28;01melse\u001b[39;00m:\n\u001b[0;32m    881\u001b[0m         \u001b[38;5;66;03m# Binary mode\u001b[39;00m\n\u001b[1;32m--> 882\u001b[0m         handle \u001b[38;5;241m=\u001b[39m \u001b[38;5;28;43mopen\u001b[39;49m\u001b[43m(\u001b[49m\u001b[43mhandle\u001b[49m\u001b[43m,\u001b[49m\u001b[43m \u001b[49m\u001b[43mioargs\u001b[49m\u001b[38;5;241;43m.\u001b[39;49m\u001b[43mmode\u001b[49m\u001b[43m)\u001b[49m\n\u001b[0;32m    883\u001b[0m     handles\u001b[38;5;241m.\u001b[39mappend(handle)\n\u001b[0;32m    885\u001b[0m \u001b[38;5;66;03m# Convert BytesIO or file objects passed with an encoding\u001b[39;00m\n",
      "\u001b[1;31mFileNotFoundError\u001b[0m: [Errno 2] No such file or directory: 'dataf.xlsx'"
     ]
    }
   ],
   "source": [
    "#11. Create Data Frame from Excel sheet using Pandas and Perform Operations on Data frames\n",
    "import pandas as pd\n",
    "data = pd.read_excel(\"dataf.xlsx\")\n",
    "print(data)\n",
    "print(data['column1'].sum())\n",
    "print(data['Column2'].mean())\n",
    "print(data['Column3'].max())\n",
    "print(data['Column4'].min())"
   ]
  }
 ],
 "metadata": {
  "kernelspec": {
   "display_name": "Python 3",
   "language": "python",
   "name": "python3"
  },
  "language_info": {
   "codemirror_mode": {
    "name": "ipython",
    "version": 3
   },
   "file_extension": ".py",
   "mimetype": "text/x-python",
   "name": "python",
   "nbconvert_exporter": "python",
   "pygments_lexer": "ipython3",
   "version": "3.12.4"
  }
 },
 "nbformat": 4,
 "nbformat_minor": 2
}
